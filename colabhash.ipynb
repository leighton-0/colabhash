{
  "nbformat": 4,
  "nbformat_minor": 0,
  "metadata": {
    "colab": {
      "name": "colabhash.ipynb",
      "provenance": [],
      "private_outputs": true,
      "collapsed_sections": []
    },
    "kernelspec": {
      "name": "python3",
      "display_name": "Python 3"
    },
    "accelerator": "GPU"
  },
  "cells": [
    {
      "cell_type": "code",
      "metadata": {
        "id": "hMdN8VgRVJYq"
      },
      "source": [
        "# Setup colabhash\n",
        "from google.colab import drive\n",
        "drive.mount(\"./drive\", force_remount=True)\n",
        "\n",
        "# Create all required directories and files\n",
        "os.makedirs('./drive/My Drive/colabhash', exist_ok=True)\n",
        "os.makedirs('./colabhash/wordlists', exist_ok=True)\n",
        "os.makedirs('./colabhash/hashes', exist_ok=True)"
      ],
      "execution_count": null,
      "outputs": []
    },
    {
      "cell_type": "code",
      "metadata": {
        "id": "C7ccrAGCPZdN"
      },
      "source": [
        "# Check the GPU specs\n",
        "!nvidia-smi"
      ],
      "execution_count": null,
      "outputs": []
    },
    {
      "cell_type": "code",
      "metadata": {
        "id": "UcZm41b6y-QU"
      },
      "source": [
        "# Run hashcat\n",
        "from google.colab import drive\n",
        "import os\n",
        "\n",
        "hashcat_version = '6.1.1'\n",
        "\n",
        "mode = ''\n",
        "hash = ''\n",
        "\n",
        "wordlist = 'rockyou.txt'\n",
        "\n",
        "url = f\"https://github.com/hashcat/hashcat/releases/download/v{hashcat_version}/hashcat-{hashcat_version}.7z\"\n",
        "cmd = f\"hashcat.bin -O -w 4 -m {mode} '{hash}' './colabhash/wordlists/{wordlist}'\"\n",
        "\n",
        "################################################################################\n",
        "\n",
        "# Mount google drive\n",
        "drive.mount(\"./drive\", force_remount=True)\n",
        "\n",
        "# Make a symbolic link\n",
        "!ln -sf './drive/My Drive/colabhash' '.'\n",
        "\n",
        "# Get hashcat\n",
        "if not os.path.isdir(f\"./hashcat-{hashcat_version}\"):\n",
        "  !wget -q \"$url\" -O 'hashcat.7z'\n",
        "  !7z x 'hashcat.7z' -aoa >/dev/null\n",
        "  !rm -f 'hashcat.7z'\n",
        "\n",
        "# Run hashcat\n",
        "!./hashcat-$hashcat_version/$cmd 2>&1 | tee ./colabhash/hashcat.log"
      ],
      "execution_count": null,
      "outputs": []
    },
    {
      "cell_type": "code",
      "metadata": {
        "id": "DuELHIziWfqC"
      },
      "source": [
        "# Spawn a bash shell\n",
        "!bash"
      ],
      "execution_count": null,
      "outputs": []
    }
  ]
}