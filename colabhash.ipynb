{
  "nbformat": 4,
  "nbformat_minor": 0,
  "metadata": {
    "colab": {
      "name": "colabhash.ipynb",
      "provenance": [],
      "collapsed_sections": []
    },
    "kernelspec": {
      "name": "python3",
      "display_name": "Python 3"
    },
    "accelerator": "GPU"
  },
  "cells": [
    {
      "cell_type": "code",
      "metadata": {
        "id": "hMdN8VgRVJYq"
      },
      "source": [
        "# Setup colabhash\n",
        "from google.colab import drive\n",
        "drive.mount(\"./drive\", force_remount=True)\n",
        "\n",
        "# Create all required directories and files\n",
        "!mkdir -pv \"./drive/My Drive/colabhash/wordlists\"\n",
        "!mkdir -pv \"./drive/My Drive/colabhash/hashes\""
      ],
      "execution_count": null,
      "outputs": []
    },
    {
      "cell_type": "code",
      "metadata": {
        "id": "C7ccrAGCPZdN"
      },
      "source": [
        "# Check the GPU specs\n",
        "!nvidia-smi"
      ],
      "execution_count": null,
      "outputs": []
    },
    {
      "cell_type": "code",
      "metadata": {
        "id": "UcZm41b6y-QU"
      },
      "source": [
        "# Run hashcat\n",
        "from google.colab import drive\n",
        "import os\n",
        "\n",
        "hashcat_version = '6.1.1'\n",
        "\n",
        "mode = ''\n",
        "hash = ''\n",
        "\n",
        "wordlist = 'rockyou.txt'\n",
        "\n",
        "url = f\"https://github.com/hashcat/hashcat/releases/download/v{hashcat_version}/hashcat-{hashcat_version}.7z\"\n",
        "cmd = f\"hashcat.bin -O -w 4 -m '{mode}' '{hash}' './colabhash/wordlists/{wordlist}'\"\n",
        "\n",
        "################################################################################\n",
        "\n",
        "# Mount google drive\n",
        "drive.mount(\"./drive\", force_remount=True)\n",
        "\n",
        "# Make a symbolic link\n",
        "!unlink './colabhash' >/dev/null 2>&1\n",
        "!ln -sf './drive/My Drive/colabhash' '.' >/dev/null 2>&1\n",
        "\n",
        "# Get hashcat\n",
        "if not os.path.isdir(f\"./hashcat-{hashcat_version}\"):\n",
        "  print(\"Hashcat not found locally\")\n",
        "  print(f\"Downloading version: {hashcat_version}\")\n",
        "  !wget -q \"$url\" -O 'hashcat.7z' >/dev/null 2>&1\n",
        "  !7z x 'hashcat.7z' -aoa >/dev/null 2>&1\n",
        "  !rm -f 'hashcat.7z' >/dev/null 2>&1\n",
        "else:\n",
        "  print(f\"Hashcat v{hashcat_version} found locally\")\n",
        "\n",
        "print(f\"Command: \\\"{cmd}\\\"\")\n",
        "\n",
        "# Run hashcat\n",
        "!./hashcat-$hashcat_version/$cmd 2>&1 | tee ./colabhash/hashcat.log"
      ],
      "execution_count": null,
      "outputs": []
    },
    {
      "cell_type": "code",
      "metadata": {
        "id": "DuELHIziWfqC"
      },
      "source": [
        "# Spawn a bash shell\n",
        "!bash"
      ],
      "execution_count": null,
      "outputs": []
    }
  ]
}